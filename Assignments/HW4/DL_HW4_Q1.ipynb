{
  "cells": [
    {
      "cell_type": "markdown",
      "metadata": {
        "id": "sp7D0ktn5eiG"
      },
      "source": [
        "\n",
        "<br>\n",
        "<font>\n",
        "<div dir=ltr align=center>\n",
        "<font color=0F5298 size=10>\n",
        "    Deep Learning - HW4 <br>\n",
        "<font color=2565AE size=5>\n",
        "    Electrical Engineering Department <br>\n",
        "    winter 2024<br>\n",
        "<font color=3C99D size=5>\n",
        "    Practical Assignment 1 <br>\n",
        "<font color=696880 size=4>\n",
        "    Niloufar Abbasi\n",
        "\n",
        "____"
      ]
    },
    {
      "cell_type": "markdown",
      "metadata": {
        "id": "aMsHgVP5BVCW"
      },
      "source": [
        "# Emotion Recognition with Recurrent Neural Networks\n"
      ]
    },
    {
      "cell_type": "markdown",
      "metadata": {
        "id": "7kN3ytqnBVCW"
      },
      "source": [
        "---\n",
        "\n",
        "## **Introduction**\n",
        "\n",
        "In this task, you will implement a Recurrent Neural Network (RNN) to perform tweet emotion recognition. The goal is to classify tweets into one of six basic emotions:\n",
        "- **0: sadness**\n",
        "- **1: joy**\n",
        "- **2: love**\n",
        "- **3: anger**\n",
        "- **4: fear**\n",
        "- **5: surprise**\n",
        "\n",
        "We will be using a dataset of tweets, where each tweet has been labeled with one of these emotions. Throughout this notebook, you will follow step-by-step instructions to build and train your model. As you progress, you'll complete the provided TODO sections by filling in the necessary code and functions.\n",
        "\n",
        "By the end of this exercise, you will:\n",
        "- Understand how to preprocess text data for use in RNN models.\n",
        "- Build and train a model using Pytorch.\n",
        "- Evaluate the performance of your model on the test set.\n",
        "\n",
        "---\n"
      ]
    },
    {
      "cell_type": "markdown",
      "metadata": {
        "id": "cEyW1csEBVCX"
      },
      "source": [
        "---\n",
        "\n",
        "## Task 1: Enter Your Information\n",
        "\n",
        "Before we begin, please enter your **student ID** and **name** in the code section below.\n",
        "\n",
        "Make sure to replace the placeholders with your actual information.\n",
        "\n",
        "---"
      ]
    },
    {
      "cell_type": "code",
      "execution_count": 1,
      "metadata": {
        "colab": {
          "base_uri": "https://localhost:8080/"
        },
        "id": "K1tx6NhXBVCX",
        "outputId": "30d822e6-bfb0-4332-d9b9-73557c4eafcc"
      },
      "outputs": [
        {
          "output_type": "stream",
          "name": "stdout",
          "text": [
            "Your name: Radin Khayyam\n",
            "Your student ID: 99101579\n"
          ]
        }
      ],
      "source": [
        "#########################################\n",
        "# TODO: Enter your personal information #\n",
        "#########################################\n",
        "\n",
        "student_name = 'Radin Khayyam'  # Replace with your name\n",
        "student_id   = 99101579  # Replace with your student ID\n",
        "\n",
        "print(\"Your name:\", student_name)\n",
        "print(\"Your student ID:\", student_id)"
      ]
    },
    {
      "cell_type": "markdown",
      "metadata": {
        "id": "wLEvHuwQBVCZ"
      },
      "source": [
        "---\n",
        "\n",
        "## Task 2: Setup and Imports\n",
        "\n",
        "In this task, we'll be preparing our environment by importing the necessary libraries. Please run the cells below to set everything up. If any library is missing on your end, make sure to install it.\n",
        "\n",
        "### Instructions:\n",
        "1. **Run the cells** to install any required packages and import the necessary libraries.\n",
        "2. If any library is not installed in your environment, use `!pip install <library_name>` to install it.\n",
        "---"
      ]
    },
    {
      "cell_type": "code",
      "execution_count": null,
      "metadata": {
        "id": "KHvg_8CDBVCZ",
        "collapsed": true
      },
      "outputs": [],
      "source": [
        "!pip install datasets\n",
        "!pip install nlpaug"
      ]
    },
    {
      "cell_type": "markdown",
      "metadata": {
        "id": "p84YoJ1QBVCZ"
      },
      "source": [
        "Required Libraries:"
      ]
    },
    {
      "cell_type": "code",
      "execution_count": 3,
      "metadata": {
        "id": "QbuTTBRpBVCa"
      },
      "outputs": [],
      "source": [
        "import torch\n",
        "import numpy as np\n",
        "import matplotlib.pyplot as plt\n",
        "from sklearn.metrics import confusion_matrix\n",
        "from datasets import load_dataset\n",
        "import seaborn as sns\n",
        "import nlpaug.augmenter.word as naw\n",
        "import random\n",
        "import nltk\n",
        "import torch.nn as nn\n",
        "from torchsummary import summary\n",
        "from torch.utils.data import DataLoader, TensorDataset\n",
        "import torch.optim as optim\n",
        "from transformers import BertTokenizer\n",
        "from sklearn.metrics import accuracy_score\n",
        "\n",
        "%matplotlib inline"
      ]
    },
    {
      "cell_type": "code",
      "source": [
        "nltk.download('averaged_perceptron_tagger')\n",
        "nltk.download('averaged_perceptron_tagger_eng')\n",
        "nltk.download('wordnet')\n",
        "nltk.download('omw-1.4')"
      ],
      "metadata": {
        "colab": {
          "base_uri": "https://localhost:8080/"
        },
        "id": "tWKmMU3RZiN8",
        "outputId": "2266b998-de28-4369-9307-de707120e99a"
      },
      "execution_count": 4,
      "outputs": [
        {
          "output_type": "stream",
          "name": "stderr",
          "text": [
            "[nltk_data] Downloading package averaged_perceptron_tagger to\n",
            "[nltk_data]     /root/nltk_data...\n",
            "[nltk_data]   Unzipping taggers/averaged_perceptron_tagger.zip.\n",
            "[nltk_data] Downloading package averaged_perceptron_tagger_eng to\n",
            "[nltk_data]     /root/nltk_data...\n",
            "[nltk_data]   Unzipping taggers/averaged_perceptron_tagger_eng.zip.\n",
            "[nltk_data] Downloading package wordnet to /root/nltk_data...\n",
            "[nltk_data] Downloading package omw-1.4 to /root/nltk_data...\n"
          ]
        },
        {
          "output_type": "execute_result",
          "data": {
            "text/plain": [
              "True"
            ]
          },
          "metadata": {},
          "execution_count": 4
        }
      ]
    },
    {
      "cell_type": "markdown",
      "metadata": {
        "id": "OgVwokK9BVCa"
      },
      "source": [
        "### Additional Functions\n",
        "\n",
        "The following functions have been provided to help you visualize the results of your model training. These will allow you to analyze both the model's performance over time (through the training history) and how well it performs on individual predictions (through a confusion matrix).\n",
        "\n",
        "1. **`plot_history(hist)`**: This function takes the training history object (`hist`) from your model and plots both the accuracy and loss over the number of epochs for both training and validation sets. It provides an easy way to visually track the model's learning progress and performance.\n",
        "\n",
        "2. **`visualize_confusion_matrix(actual_labels, predicted_labels, classes)`**: After making predictions with your model, you can use this function to plot a confusion matrix. It shows the accuracy of your model across each class, helping to identify areas where the model is performing well and where it might be struggling. The matrix is normalized to make comparisons easier.\n",
        "\n",
        "These functions are for your convenience, you can directly use them after running your model to visualize the results.\n"
      ]
    },
    {
      "cell_type": "code",
      "execution_count": 26,
      "metadata": {
        "id": "Xu6NYCqWBVCa"
      },
      "outputs": [],
      "source": [
        "# Functions to visualize training history and confusion matrix\n",
        "def plot_history(hist):\n",
        "    epochs = len(hist['loss'])\n",
        "    plt.figure(figsize=(16, 6))\n",
        "\n",
        "    plt.subplot(1, 2, 1)\n",
        "    plt.plot(range(0, epochs), hist['accuracy'], label='Training')\n",
        "    plt.plot(range(0, epochs), hist['val_accuracy'], label='Validation')\n",
        "    plt.ylim([0., 1.])\n",
        "    plt.xlabel('Epochs')\n",
        "    plt.ylabel('Accuracy')\n",
        "    plt.legend()\n",
        "\n",
        "    plt.subplot(1, 2, 2)\n",
        "    plt.plot(range(0, epochs), hist['loss'], label='Training')\n",
        "    plt.plot(range(0, epochs), hist['val_loss'], label='Validation')\n",
        "    plt.xlabel('Epochs')\n",
        "    plt.ylabel('Loss')\n",
        "    plt.legend()\n",
        "    plt.show()\n",
        "\n",
        "def visualize_confusion_matrix(actual_labels, predicted_labels, classes):\n",
        "\n",
        "    cm = confusion_matrix(actual_labels, predicted_labels, normalize='true')\n",
        "\n",
        "    plt.figure(figsize=(8, 8))\n",
        "    sp = plt.subplot(1, 1, 1)\n",
        "    ctx = sp.matshow(cm)\n",
        "    plt.xticks(list(range(0, 6)), labels=classes)\n",
        "    plt.yticks(list(range(0, 6)), labels=classes)\n",
        "    plt.colorbar(ctx)\n",
        "    plt.show()\n"
      ]
    },
    {
      "cell_type": "markdown",
      "metadata": {
        "id": "9Ils-XyJBVCb"
      },
      "source": [
        "---\n",
        "\n",
        "## Task 3: Importing Data\n",
        "\n",
        "In this task, we will\n",
        "\n",
        "- import the Tweet Emotion dataset\n",
        "\n",
        "- create training, validation, and test sets\n",
        "    \n",
        "- extract the tweets and their corresponding labels for further analysis\n",
        "\n",
        "---"
      ]
    },
    {
      "cell_type": "code",
      "execution_count": 7,
      "metadata": {
        "id": "0YHOvjAu5eiL",
        "colab": {
          "base_uri": "https://localhost:8080/"
        },
        "outputId": "b8095dac-1571-4b83-b9e2-b9385e8982fe"
      },
      "outputs": [
        {
          "output_type": "execute_result",
          "data": {
            "text/plain": [
              "DatasetDict({\n",
              "    train: Dataset({\n",
              "        features: ['text', 'label'],\n",
              "        num_rows: 16000\n",
              "    })\n",
              "    validation: Dataset({\n",
              "        features: ['text', 'label'],\n",
              "        num_rows: 2000\n",
              "    })\n",
              "    test: Dataset({\n",
              "        features: ['text', 'label'],\n",
              "        num_rows: 2000\n",
              "    })\n",
              "})"
            ]
          },
          "metadata": {},
          "execution_count": 7
        }
      ],
      "source": [
        "dataset = load_dataset('emotion')\n",
        "dataset"
      ]
    },
    {
      "cell_type": "code",
      "execution_count": 8,
      "metadata": {
        "id": "2s0h541FxIgc",
        "colab": {
          "base_uri": "https://localhost:8080/"
        },
        "outputId": "f34b7cdb-88d5-4592-cd4e-80086e547341"
      },
      "outputs": [
        {
          "output_type": "stream",
          "name": "stdout",
          "text": [
            "{'text': ['i didnt feel humiliated', 'i can go from feeling so hopeless to so damned hopeful just from being around someone who cares and is awake', 'im grabbing a minute to post i feel greedy wrong', 'i am ever feeling nostalgic about the fireplace i will know that it is still on the property', 'i am feeling grouchy'], 'label': [0, 0, 3, 2, 3]}\n"
          ]
        }
      ],
      "source": [
        "# Display the first few samples\n",
        "print(dataset['train'][0:5])"
      ]
    },
    {
      "cell_type": "code",
      "execution_count": 9,
      "metadata": {
        "id": "z7eCnxU25eiN"
      },
      "outputs": [],
      "source": [
        "###########################################################################\n",
        "# TODO: Create variables for the training, validation, and test datasets. #\n",
        "###########################################################################\n",
        "\n",
        "training = dataset['train']\n",
        "validation = dataset['validation']\n",
        "test = dataset['test']"
      ]
    },
    {
      "cell_type": "code",
      "execution_count": 10,
      "metadata": {
        "id": "oDYXMfZy5eiP",
        "colab": {
          "base_uri": "https://localhost:8080/"
        },
        "outputId": "849ed674-a78e-4b7b-bb44-239723881713"
      },
      "outputs": [
        {
          "output_type": "stream",
          "name": "stdout",
          "text": [
            "i didnt feel humiliated 0\n"
          ]
        }
      ],
      "source": [
        "########################################################################################################\n",
        "# TODO:                                                                                                #\n",
        "# Implement the `extract_tweets_labels` function to iterate over the provided dataset.                 #\n",
        "# Within this function, extract the tweet text and their corresponding labels into two separate lists. #\n",
        "# Then, call this function with the training dataset to obtain the tweets and labels,                  #\n",
        "# ensuring proper data handling for subsequent analysis.                                               #\n",
        "########################################################################################################\n",
        "\n",
        "def extract_tweets_labels(data):\n",
        "    # Extract the text and labels from the data\n",
        "    tweets = [item['text'] for item in data]\n",
        "    labels = [item['label'] for item in data]\n",
        "    return tweets, labels\n",
        "\n",
        "training_tweets, training_labels = extract_tweets_labels(training)\n",
        "print(training_tweets[0], training_labels[0])\n"
      ]
    },
    {
      "cell_type": "markdown",
      "metadata": {
        "id": "c-O-PqcMBVCd"
      },
      "source": [
        "---\n",
        "\n",
        "## Task 4: Tokenization of Tweets\n",
        "\n",
        "In this section, we will focus on the tokenization of the tweets in the dataset. Tokenization is a crucial step in natural language processing (NLP) that involves breaking down text into smaller units, such as words or subwords. This process enables the model to better understand and analyze the text data.\n",
        "\n",
        "### Objectives:\n",
        "1. Implement a tokenizer to convert the tweet texts into tokens.\n",
        "2. Ensure the tokenization process handles various aspects of the text, such as punctuation and special characters.\n",
        "\n",
        "By the end of this task, you will have a set of tokenized tweets ready for further processing in your NLP pipeline.\n",
        "\n",
        "---"
      ]
    },
    {
      "cell_type": "code",
      "execution_count": 12,
      "metadata": {
        "id": "qfX5-ResxIgq",
        "colab": {
          "base_uri": "https://localhost:8080/"
        },
        "outputId": "df47fb1d-1388-4a6a-cfd3-d24ea2d50baf"
      },
      "outputs": [
        {
          "output_type": "stream",
          "name": "stderr",
          "text": [
            "Keyword arguments {'add_special_tokens': True} not recognized.\n"
          ]
        },
        {
          "output_type": "stream",
          "name": "stdout",
          "text": [
            "Original Tweet: I love this game! It's amazing, isn't it? #incredible\n",
            "Tokenized Tweet: ['i', 'love', 'this', 'game', '!', 'it', \"'\", 's', 'amazing', ',', 'isn', \"'\", 't', 'it', '?', '#', 'incredible']\n",
            "Encoded Tweet: [101, 1045, 2293, 2023, 2208, 999, 2009, 1005, 1055, 6429, 1010, 3475, 1005, 1056, 2009, 1029, 1001, 9788, 102]\n"
          ]
        }
      ],
      "source": [
        "###############################################################################################################################################\n",
        "# TODO: Tokenization of Tweets                                                                                                                #\n",
        "# 1. Select a Tokenization Method: Choose a suitable tokenization method to preprocess the tweets.                                            #\n",
        "# Ensure that the tokenization handles special characters and maintains the integrity of the text data.                                       #\n",
        "# 2. Implement the Tokenizer: Once you have selected a method, implement the tokenizer to convert the tweet texts into sequences of tokens.   #\n",
        "# 3. Test the Tokenization:                                                                                                                   #\n",
        "# Verify the functionality of your tokenizer by applying it to a sample tweet from the dataset and displaying the resulting tokenized output. #\n",
        "###############################################################################################################################################\n",
        "\n",
        "# Initialize the tokenizer\n",
        "tokenizer = BertTokenizer.from_pretrained('bert-base-uncased')\n",
        "\n",
        "# Test the tokenizer with a sample tweet\n",
        "sample_tweet = \"I love this game! It's amazing, isn't it? #incredible\"\n",
        "print(f\"Original Tweet: {sample_tweet}\")\n",
        "print(f\"Tokenized Tweet: {tokenizer.tokenize(sample_tweet, add_special_tokens=True)}\")\n",
        "print(f\"Encoded Tweet: {tokenizer.encode(sample_tweet, add_special_tokens=True)}\")"
      ]
    },
    {
      "cell_type": "markdown",
      "metadata": {
        "id": "c6VzTzmABVCd"
      },
      "source": [
        "---\n",
        "\n",
        "## Task 5: Padding and Truncating Sequences\n",
        "\n",
        "In this task, we will prepare the tokenized tweets for model training by checking their lengths and creating padded sequences.\n",
        "\n",
        "1. **Checking the Length of the Tweets**\n",
        "   - Analyze the distribution of tweet lengths to understand the range of token counts in the dataset.\n",
        "\n",
        "2. **Creating Padded Sequences**\n",
        "   - After tokenizing the tweets, sequences of different lengths must be adjusted to a uniform length to facilitate training.\n",
        "\n",
        "---\n"
      ]
    },
    {
      "cell_type": "code",
      "execution_count": 13,
      "metadata": {
        "colab": {
          "base_uri": "https://localhost:8080/",
          "height": 581
        },
        "id": "-ga_Kn99BVCd",
        "outputId": "66052396-7a6f-4f25-e119-309a98fa29c0"
      },
      "outputs": [
        {
          "output_type": "display_data",
          "data": {
            "text/plain": [
              "<Figure size 1000x600 with 1 Axes>"
            ],
            "image/png": "[encoded data removed]"
          },
          "metadata": {}
        },
        {
          "output_type": "stream",
          "name": "stdout",
          "text": [
            "Maximum tweet length: 87\n"
          ]
        }
      ],
      "source": [
        "#####################################################################################################################################################\n",
        "# TODO:                                                                                                                                             #\n",
        "# Implement code to calculate the lengths of the tweets and visualize the distribution using a histogram. Use an appropriate visualization library. #\n",
        "# After visualizing the distribution, determine a suitable maximum length for padding and truncating the sequences based on your findings.          #\n",
        "#####################################################################################################################################################\n",
        "\n",
        "# Apply the tokenizer to all tweets\n",
        "tokenized_training_tweets = [tokenizer.encode(tweet, add_special_tokens=True) for tweet in training_tweets]\n",
        "\n",
        "# Calculate the lengths of the tokenized tweets\n",
        "tweet_lengths = [len(tweet) for tweet in tokenized_training_tweets]\n",
        "\n",
        "# Plot a histogram of tweet lengths\n",
        "plt.figure(figsize=(10, 6))\n",
        "plt.hist(tweet_lengths, bins=50, color='skyblue', edgecolor='black')\n",
        "plt.title('Distribution of Tweet Lengths (Tokenized)')\n",
        "plt.xlabel('Length (Number of Tokens)')\n",
        "plt.ylabel('Frequency')\n",
        "plt.show()\n",
        "\n",
        "# Get the maximum tweet length\n",
        "max_length = max(tweet_lengths)\n",
        "print(f\"Maximum tweet length: {max_length}\")\n",
        "\n"
      ]
    },
    {
      "cell_type": "code",
      "execution_count": 14,
      "metadata": {
        "id": "oGMGwsBpBVCe",
        "colab": {
          "base_uri": "https://localhost:8080/"
        },
        "outputId": "72b84cb4-2c26-463d-bf7f-be517592d20b"
      },
      "outputs": [
        {
          "output_type": "stream",
          "name": "stdout",
          "text": [
            "[101, 1045, 2134, 2102, 2514, 26608, 102, 0, 0, 0, 0, 0, 0, 0, 0, 0, 0, 0, 0, 0, 0, 0, 0, 0, 0, 0, 0, 0, 0, 0, 0, 0, 0, 0, 0, 0, 0, 0, 0, 0, 0, 0, 0, 0, 0, 0, 0, 0, 0, 0, 0, 0, 0, 0, 0, 0, 0, 0, 0, 0, 0, 0, 0, 0]\n"
          ]
        }
      ],
      "source": [
        "############################################################################################################\n",
        "# TODO: Define a function to convert the tokenized tweets into sequences and apply padding and truncation. #\n",
        "# Use your determined maximum length for padding the sequences.                                            #\n",
        "############################################################################################################\n",
        "\n",
        "def get_sequences(tokenizer, tweets, max_length):\n",
        "    tokenized_tweets = [tokenizer.encode(tweet, add_special_tokens=True) for tweet in tweets]\n",
        "    padded_sequences = []\n",
        "    for tweet in tokenized_tweets:\n",
        "        # Truncate if tweet is longer than max_length\n",
        "        if len(tweet) > max_length:\n",
        "            tweet = tweet[:max_length]\n",
        "        # Pad if tweet is shorter than max_length\n",
        "        elif len(tweet) < max_length:\n",
        "            padding = [0] * (max_length - len(tweet))\n",
        "            tweet = tweet + padding\n",
        "        padded_sequences.append(tweet)\n",
        "\n",
        "    return padded_sequences\n",
        "\n",
        "max_length = 64\n",
        "training_sequences = get_sequences(tokenizer, training_tweets, max_length)\n",
        "print(training_sequences[0])"
      ]
    },
    {
      "cell_type": "markdown",
      "metadata": {
        "id": "BURhOX_KxIg8"
      },
      "source": [
        "---\n",
        "\n",
        "## Task 6: Analyzing Label Distribution\n",
        "\n",
        "1. Checking the distribution of labels.\n",
        "2. Addressing any class imbalance using appropriate techniques.\n",
        "\n",
        "Note:\n",
        "\n",
        "(**Providing a clear explanation of the chosen method to address the imbalance and how it will improve the model’s performance is critical.** Without handling class imbalance properly, the model could achieve a high accuracy by focusing on the majority class, but it may perform poorly on the minority class, which would result in misleading metrics and reduced generalization.\n",
        "\n",
        "Hence, it is important to not only implement an appropriate solution but also **justify** why the selected approach is effective for the given task.)\n",
        "\n",
        "---"
      ]
    },
    {
      "cell_type": "code",
      "execution_count": 15,
      "metadata": {
        "id": "SufT2bpD5ejE",
        "colab": {
          "base_uri": "https://localhost:8080/",
          "height": 669
        },
        "outputId": "546c8f71-8d79-46aa-e87f-2e4f06711898"
      },
      "outputs": [
        {
          "output_type": "stream",
          "name": "stderr",
          "text": [
            "<ipython-input-15-52dae6cb55e2>:12: FutureWarning: \n",
            "\n",
            "Passing `palette` without assigning `hue` is deprecated and will be removed in v0.14.0. Assign the `x` variable to `hue` and set `legend=False` for the same effect.\n",
            "\n",
            "  sns.barplot(x=list(label_counts.keys()), y=list(label_counts.values()), palette='viridis')\n"
          ]
        },
        {
          "output_type": "display_data",
          "data": {
            "text/plain": [
              "<Figure size 1000x600 with 1 Axes>"
            ],
            "image/png": "[encoded data removed]"
          },
          "metadata": {}
        }
      ],
      "source": [
        "##########################################################################################################################\n",
        "# TODO: Analyze the distribution of labels in the training set. (visualize it in a perfect way)                          #\n",
        "# Determine if there is any class imbalance.                                                                             #\n",
        "# If you observe any imbalance, apply one of the techniques you have learned throughout the course to address the issue. #\n",
        "##########################################################################################################################\n",
        "\n",
        "# Count the occurrences of each label\n",
        "label_counts = {label: training_labels.count(label) for label in set(training_labels)}\n",
        "\n",
        "# Visualize the label distribution\n",
        "plt.figure(figsize=(10, 6))\n",
        "sns.barplot(x=list(label_counts.keys()), y=list(label_counts.values()), palette='viridis')\n",
        "plt.title('Distribution of Labels in the Training Set')\n",
        "plt.xlabel('Label (Emotion)')\n",
        "plt.ylabel('Number of Samples')\n",
        "plt.xticks(list(label_counts.keys()), ['Sadness', 'Joy', 'Love', 'Anger', 'Fear', 'Surprise'])\n",
        "plt.show()\n"
      ]
    },
    {
      "cell_type": "code",
      "source": [
        "# Create the augmenter using WordNet for synonym replacement\n",
        "aug = naw.SynonymAug(aug_src='wordnet')\n",
        "\n",
        "# Function to augment a list of tweets\n",
        "def augment_tweets(tweets, num_times):\n",
        "    augmented = []\n",
        "    for tweet in tweets:\n",
        "        augmented.extend(aug.augment(tweet, n=num_times))\n",
        "    return augmented\n",
        "\n",
        "# Collect tweets for specific labels and their required augmentation\n",
        "label_augmentation_factors = {2: 3, 5: 6, 3: 1, 4: 1}\n",
        "augmented_tweets = []\n",
        "augmented_labels = []\n",
        "\n",
        "for label, factor in label_augmentation_factors.items():\n",
        "\n",
        "    label_tweets = [tweet for tweet, lbl in zip(training_tweets, training_labels) if lbl == label]\n",
        "    new_tweets = augment_tweets(label_tweets, factor)\n",
        "    augmented_tweets.extend(new_tweets)\n",
        "    augmented_labels.extend([label] * len(new_tweets))\n",
        "\n",
        "# Add augmented data back to the dataset\n",
        "training_tweets.extend(augmented_tweets)\n",
        "training_labels.extend(augmented_labels)\n",
        "\n",
        "# Shuffle the dataset to ensure the model does not learn the order\n",
        "combined = list(zip(training_tweets, training_labels))\n",
        "random.shuffle(combined)\n",
        "training_tweets, training_labels = zip(*combined)\n",
        "training_sequences = get_sequences(tokenizer, training_tweets, max_length)\n",
        "print(f\"Augmented training data size: {len(training_tweets)}\")"
      ],
      "metadata": {
        "id": "HqRZeZJAY51h",
        "colab": {
          "base_uri": "https://localhost:8080/"
        },
        "outputId": "6196d819-3979-425a-b9bb-035dade1f816"
      },
      "execution_count": 16,
      "outputs": [
        {
          "output_type": "stream",
          "name": "stdout",
          "text": [
            "Augmented training data size: 27440\n"
          ]
        }
      ]
    },
    {
      "cell_type": "code",
      "source": [
        "# Count the occurrences of each label\n",
        "label_counts = {label: training_labels.count(label) for label in set(training_labels)}\n",
        "\n",
        "# Visualize the label distribution\n",
        "plt.figure(figsize=(10, 6))\n",
        "sns.barplot(x=list(label_counts.keys()), y=list(label_counts.values()), palette='viridis')\n",
        "plt.title('Distribution of Labels in the Training Set')\n",
        "plt.xlabel('Label (Emotion)')\n",
        "plt.ylabel('Number of Samples')\n",
        "plt.xticks(list(label_counts.keys()), ['Sadness', 'Joy', 'Love', 'Anger', 'Fear', 'Surprise'])\n",
        "plt.show()"
      ],
      "metadata": {
        "colab": {
          "base_uri": "https://localhost:8080/",
          "height": 669
        },
        "id": "dBpZQZHvY8qN",
        "outputId": "f75802ec-7d96-453e-f06e-488fae006626"
      },
      "execution_count": 17,
      "outputs": [
        {
          "output_type": "stream",
          "name": "stderr",
          "text": [
            "<ipython-input-17-5f5b111f0240>:6: FutureWarning: \n",
            "\n",
            "Passing `palette` without assigning `hue` is deprecated and will be removed in v0.14.0. Assign the `x` variable to `hue` and set `legend=False` for the same effect.\n",
            "\n",
            "  sns.barplot(x=list(label_counts.keys()), y=list(label_counts.values()), palette='viridis')\n"
          ]
        },
        {
          "output_type": "display_data",
          "data": {
            "text/plain": [
              "<Figure size 1000x600 with 1 Axes>"
            ],
            "image/png": "[encoded data removed]"
          },
          "metadata": {}
        }
      ]
    },
    {
      "cell_type": "markdown",
      "source": [
        "To address the class imbalance in our dataset, we employed data augmentation strategies specifically targeted at underrepresented classes. This was achieved through synonym replacement using the **nlpaug** library, which integrates with WordNet via NLTK to perform the augmentation. By selecting the classes \"Love,\" \"Surprise,\" \"Anger,\" and \"Fear,\" which were less represented compared to \"Joy\" and \"Sadness,\" we tailored our augmentation efforts to enhance their sample size effectively. For \"Love\" and \"Surprise,\" the number of samples was increased fourfold, while for \"Anger\" and \"Fear,\" the samples were doubled. This augmentation process involved generating new tweets by substituting some words in the original texts with their synonyms, thereby creating similar yet distinct training examples.\n",
        "\n",
        "The augmentation was meticulously implemented to ensure the semantic integrity of the tweets remained intact. Each tweet selected for augmentation was processed to generate multiple variants, adhering to the predefined multiplication factor for each class. These synthetic tweets were then reintegrated into the original dataset, keeping their corresponding emotional labels consistent with the original texts. This process not only increased the volume of data but also introduced a diversity of linguistic expressions within the same emotional context. To prevent any order bias that might influence the model during training, the expanded dataset was thoroughly shuffled after the augmentation process.\n",
        "\n",
        "The impact of this data augmentation on the training of the model was multifaceted. Primarily, it addressed the imbalance by equalizing the representation across all classes, thus preventing the model from overfitting to the more frequent classes. This balanced dataset helped the model learn more generalized features across different emotions, enhancing its ability to correctly classify new, unseen data. Furthermore, by diversifying the training examples within each class, the model's robustness was significantly improved, making it better equipped to handle variations in real-world data. Overall, this approach not only boosted the quantitative balance of the training set but also qualitatively enriched the data, which is crucial for maintaining high accuracy and fairness in emotion recognition tasks."
      ],
      "metadata": {
        "id": "gnBZcjHeet7D"
      }
    },
    {
      "cell_type": "markdown",
      "metadata": {
        "id": "c-v0Mnh8xIhP"
      },
      "source": [
        "---\n",
        "\n",
        "## Task 7: Creating the Model\n",
        "\n",
        "Design and implement a recurrent neural network for the task. You may utilize a sequential architecture like RNN or GRU to enhance the model's performance.\n",
        "\n",
        "Build and compile your model using Pytorch.\n",
        "\n",
        "**Once the model is created, summarize its structure to verify the design.**\n",
        "\n",
        "---"
      ]
    },
    {
      "cell_type": "code",
      "execution_count": 18,
      "metadata": {
        "id": "OpewXxPQ5eji",
        "colab": {
          "base_uri": "https://localhost:8080/"
        },
        "outputId": "443ad382-83d1-4ee3-808c-0a392d121366"
      },
      "outputs": [
        {
          "output_type": "stream",
          "name": "stdout",
          "text": [
            "EmotionRNN(\n",
            "  (embedding): Embedding(30522, 100)\n",
            "  (lstm): LSTM(100, 256, num_layers=2, batch_first=True, dropout=0.5, bidirectional=True)\n",
            "  (fc): Linear(in_features=512, out_features=6, bias=True)\n",
            "  (dropout): Dropout(p=0.5, inplace=False)\n",
            ")\n"
          ]
        }
      ],
      "source": [
        "#########################################################################################################\n",
        "# TODO:                                                                                                 #\n",
        "# Create a recurrent neural network model for the task.                                                 #\n",
        "# (Suggestion: Implement a Bidirectional LSTM architecture to process the input sequences effectively.) #\n",
        "# Once the model is created, summarize its structure to verify the design.                              #\n",
        "#########################################################################################################\n",
        "\n",
        "class EmotionRNN(nn.Module):\n",
        "    def __init__(self, vocab_size, embedding_dim, hidden_dim, output_dim, num_layers, bidirectional, dropout):\n",
        "        super(EmotionRNN, self).__init__()\n",
        "\n",
        "        self.embedding = nn.Embedding(vocab_size, embedding_dim)\n",
        "        self.lstm = nn.LSTM(embedding_dim,\n",
        "                            hidden_dim,\n",
        "                            num_layers=num_layers,\n",
        "                            bidirectional=bidirectional,\n",
        "                            dropout=dropout,\n",
        "                            batch_first=True)\n",
        "\n",
        "        self.fc = nn.Linear(hidden_dim * 2 if bidirectional else hidden_dim, output_dim)\n",
        "        self.dropout = nn.Dropout(dropout)\n",
        "\n",
        "    def forward(self, text):\n",
        "        # Text input is [batch size, sent_length]\n",
        "        embedded = self.dropout(self.embedding(text))\n",
        "\n",
        "        # Embedded is [batch size, sent_length, emb_dim]\n",
        "        output, (hidden, cell) = self.lstm(embedded)\n",
        "\n",
        "        # Concatenate the final forward and backward hidden state\n",
        "        if self.lstm.bidirectional:\n",
        "            hidden = torch.cat((hidden[-2,:,:], hidden[-1,:,:]), dim=1)\n",
        "        else:\n",
        "            hidden = hidden[-1,:,:]\n",
        "\n",
        "        # Hidden [batch size, hid_dim * num directions]\n",
        "        dense_outputs = self.fc(self.dropout(hidden))\n",
        "\n",
        "        return dense_outputs\n",
        "\n",
        "# Hyperparameters\n",
        "vocab_size = tokenizer.vocab_size\n",
        "embedding_dim = 100\n",
        "hidden_dim = 256\n",
        "output_dim = 6\n",
        "num_layers = 2\n",
        "bidirectional = True\n",
        "dropout = 0.5\n",
        "\n",
        "# Instantiate the model\n",
        "model = EmotionRNN(vocab_size, embedding_dim, hidden_dim, output_dim, num_layers, bidirectional, dropout)\n",
        "device = torch.device('cuda' if torch.cuda.is_available() else 'cpu')\n",
        "model.to(device)\n",
        "\n",
        "print(model)"
      ]
    },
    {
      "cell_type": "markdown",
      "metadata": {
        "id": "1HST_CHjxIhR"
      },
      "source": [
        "---\n",
        "\n",
        "## Task 8: Training the Model\n",
        "\n",
        "In this task, you will prepare a validation set and train your model using the training data.\n",
        "\n",
        "1. Prepare the validation set by extracting tweets and labels, and convert them into sequences using the tokenizer.\n",
        "2. Train the model on the training data.\n",
        "3. Ensure that you implement **Early Stopping** to prevent overfitting and enhance efficiency.\n",
        "\n",
        "Make sure to monitor the validation accuracy during training and adjust the parameters as necessary.\n",
        "\n",
        "---"
      ]
    },
    {
      "cell_type": "code",
      "execution_count": 19,
      "metadata": {
        "id": "Ff7F3hCK5ejm"
      },
      "outputs": [],
      "source": [
        "###############################################################################################################\n",
        "# TODO: Extract the tweets and labels from the validation set. Convert the tweets into sequences using the    #\n",
        "#       tokenizer defined earlier. Prepare the data for validation and ensure it matches the format of the    #\n",
        "#       training set.                                                                                         #\n",
        "###############################################################################################################\n",
        "\n",
        "# Extract tweets and labels from datasets\n",
        "validation_tweets, validation_labels = extract_tweets_labels(validation)\n",
        "\n",
        "# Tokenize and pad sequences\n",
        "max_length = 64\n",
        "validation_sequences = get_sequences(tokenizer, validation_tweets, max_length)\n",
        "\n",
        "# Convert sequences and labels to tensors\n",
        "train_sequences_tensor = torch.tensor(training_sequences, dtype=torch.long)\n",
        "train_labels_tensor = torch.tensor(training_labels, dtype=torch.long)\n",
        "\n",
        "validation_sequences_tensor = torch.tensor(validation_sequences, dtype=torch.long)\n",
        "validation_labels_tensor = torch.tensor(validation_labels, dtype=torch.long)\n",
        "\n",
        "# Create TensorDataset\n",
        "train_data = TensorDataset(train_sequences_tensor, train_labels_tensor)\n",
        "validation_data = TensorDataset(validation_sequences_tensor, validation_labels_tensor)\n",
        "\n",
        "# Create DataLoaders\n",
        "batch_size = 32\n",
        "train_loader = DataLoader(train_data, batch_size=batch_size, shuffle=True)\n",
        "validation_loader = DataLoader(validation_data, batch_size=batch_size, shuffle=False)"
      ]
    },
    {
      "cell_type": "code",
      "source": [
        "###############################################################################################################\n",
        "# TODO: Train the model on the prepared training data. Ensure you implement early stopping to monitor the     #\n",
        "#       validation accuracy and prevent overfitting. Adjust the number of epochs or other hyperparameters as  #\n",
        "#       needed to optimize model performance.                                                                 #\n",
        "###############################################################################################################\n",
        "\n",
        "# Early stopping utility class\n",
        "class EarlyStopping:\n",
        "    def __init__(self, patience=7, verbose=True, delta=0):\n",
        "        self.patience = patience\n",
        "        self.verbose = verbose\n",
        "        self.counter = 0\n",
        "        self.best_score = None\n",
        "        self.early_stop = False\n",
        "        self.val_loss_min = np.Inf\n",
        "        self.delta = delta\n",
        "\n",
        "    def __call__(self, val_loss, model):\n",
        "        score = -val_loss\n",
        "\n",
        "        if self.best_score is None:\n",
        "            self.best_score = score\n",
        "            self.save_checkpoint(val_loss, model)\n",
        "        elif score < self.best_score + self.delta:\n",
        "            self.counter += 1\n",
        "            if self.verbose:\n",
        "                print(f'EarlyStopping counter: {self.counter} out of {self.patience}')\n",
        "            if self.counter >= self.patience:\n",
        "                self.early_stop = True\n",
        "        else:\n",
        "            self.best_score = score\n",
        "            self.save_checkpoint(val_loss, model)\n",
        "            self.counter = 0\n",
        "\n",
        "    def save_checkpoint(self, val_loss, model):\n",
        "        \"\"\"Save model when validation loss decreases.\"\"\"\n",
        "        if self.verbose:\n",
        "            print(f'Validation loss decreased ({self.val_loss_min:.6f} to {val_loss:.6f}). Saving model...')\n",
        "        torch.save(model.state_dict(), 'best_model.pth')\n",
        "        self.val_loss_min = val_loss\n",
        "\n",
        "early_stopping = EarlyStopping(patience=5)\n",
        "\n",
        "history = {\n",
        "    'loss': [],\n",
        "    'val_loss': [],\n",
        "    'accuracy': [],\n",
        "    'val_accuracy': []\n",
        "}\n",
        "\n",
        "device = torch.device(\"cuda\" if torch.cuda.is_available() else \"cpu\")\n",
        "criterion = nn.CrossEntropyLoss()\n",
        "optimizer = optim.Adam(model.parameters(), lr=0.001)\n",
        "num_epochs = 30\n",
        "for epoch in range(num_epochs):\n",
        "    model.train()\n",
        "    train_losses, train_accuracies = [], []\n",
        "\n",
        "    for texts, labels in train_loader:\n",
        "        texts, labels = texts.to(device), labels.to(device)\n",
        "        optimizer.zero_grad()\n",
        "        outputs = model(texts)\n",
        "        loss = criterion(outputs, labels)\n",
        "        loss.backward()\n",
        "        optimizer.step()\n",
        "\n",
        "        train_losses.append(loss.item())\n",
        "        predictions = outputs.argmax(dim=1)\n",
        "        train_accuracies.append(accuracy_score(labels.cpu().numpy(), predictions.cpu().numpy()))\n",
        "\n",
        "    # Record the average training loss and accuracy for this epoch\n",
        "    history['loss'].append(np.mean(train_losses))\n",
        "    history['accuracy'].append(np.mean(train_accuracies))\n",
        "\n",
        "    # Evaluate on validation set\n",
        "    model.eval()\n",
        "    val_losses, val_accuracies = [], []\n",
        "    with torch.no_grad():\n",
        "        for texts, labels in validation_loader:\n",
        "            texts, labels = texts.to(device), labels.to(device)\n",
        "            outputs = model(texts)\n",
        "            loss = criterion(outputs, labels)\n",
        "            val_losses.append(loss.item())\n",
        "\n",
        "            predictions = outputs.argmax(dim=1)\n",
        "            val_accuracies.append(accuracy_score(labels.cpu().numpy(), predictions.cpu().numpy()))\n",
        "\n",
        "    history['val_loss'].append(np.mean(val_losses))\n",
        "    history['val_accuracy'].append(np.mean(val_accuracies))\n",
        "\n",
        "    print(f'Epoch {epoch + 1}: Train Loss: {history[\"loss\"][-1]:.4f}, Train Accuracy: {history[\"accuracy\"][-1]:.4f}, Val Loss: {history[\"val_loss\"][-1]:.4f}, Val Accuracy: {history[\"val_accuracy\"][-1]:.4f}')\n",
        "\n",
        "    # Early stopping check\n",
        "    early_stopping(np.mean(val_losses), model)\n",
        "    if early_stopping.early_stop:\n",
        "        print(\"Early stopping triggered\")\n",
        "        break\n",
        "\n",
        "model.load_state_dict(torch.load('best_model.pth'))"
      ],
      "metadata": {
        "id": "Z5O4_mVo7dDm",
        "colab": {
          "base_uri": "https://localhost:8080/"
        },
        "outputId": "eb4b9c00-920f-4c41-d3b9-c12d33e441cc"
      },
      "execution_count": 20,
      "outputs": [
        {
          "output_type": "stream",
          "name": "stdout",
          "text": [
            "Epoch 1: Train Loss: 1.6308, Train Accuracy: 0.3041, Val Loss: 1.3849, Val Accuracy: 0.4410\n",
            "Validation loss decreased (inf to 1.384904). Saving model...\n",
            "Epoch 2: Train Loss: 1.2504, Train Accuracy: 0.5069, Val Loss: 0.8131, Val Accuracy: 0.7242\n",
            "Validation loss decreased (1.384904 to 0.813137). Saving model...\n",
            "Epoch 3: Train Loss: 0.8650, Train Accuracy: 0.6845, Val Loss: 0.4432, Val Accuracy: 0.8373\n",
            "Validation loss decreased (0.813137 to 0.443162). Saving model...\n",
            "Epoch 4: Train Loss: 0.6215, Train Accuracy: 0.7802, Val Loss: 0.2956, Val Accuracy: 0.8805\n",
            "Validation loss decreased (0.443162 to 0.295623). Saving model...\n",
            "Epoch 5: Train Loss: 0.4961, Train Accuracy: 0.8244, Val Loss: 0.2300, Val Accuracy: 0.9023\n",
            "Validation loss decreased (0.295623 to 0.229956). Saving model...\n",
            "Epoch 6: Train Loss: 0.4086, Train Accuracy: 0.8555, Val Loss: 0.1845, Val Accuracy: 0.9191\n",
            "Validation loss decreased (0.229956 to 0.184528). Saving model...\n",
            "Epoch 7: Train Loss: 0.3552, Train Accuracy: 0.8728, Val Loss: 0.1631, Val Accuracy: 0.9286\n",
            "Validation loss decreased (0.184528 to 0.163122). Saving model...\n",
            "Epoch 8: Train Loss: 0.3098, Train Accuracy: 0.8857, Val Loss: 0.1619, Val Accuracy: 0.9241\n",
            "Validation loss decreased (0.163122 to 0.161876). Saving model...\n",
            "Epoch 9: Train Loss: 0.2793, Train Accuracy: 0.8967, Val Loss: 0.1719, Val Accuracy: 0.9226\n",
            "EarlyStopping counter: 1 out of 5\n",
            "Epoch 10: Train Loss: 0.2632, Train Accuracy: 0.9034, Val Loss: 0.1477, Val Accuracy: 0.9246\n",
            "Validation loss decreased (0.161876 to 0.147747). Saving model...\n",
            "Epoch 11: Train Loss: 0.2394, Train Accuracy: 0.9120, Val Loss: 0.1503, Val Accuracy: 0.9246\n",
            "EarlyStopping counter: 1 out of 5\n",
            "Epoch 12: Train Loss: 0.2179, Train Accuracy: 0.9205, Val Loss: 0.1496, Val Accuracy: 0.9306\n",
            "EarlyStopping counter: 2 out of 5\n",
            "Epoch 13: Train Loss: 0.2021, Train Accuracy: 0.9246, Val Loss: 0.1596, Val Accuracy: 0.9206\n",
            "EarlyStopping counter: 3 out of 5\n",
            "Epoch 14: Train Loss: 0.1915, Train Accuracy: 0.9275, Val Loss: 0.1449, Val Accuracy: 0.9301\n",
            "Validation loss decreased (0.147747 to 0.144861). Saving model...\n",
            "Epoch 15: Train Loss: 0.1804, Train Accuracy: 0.9316, Val Loss: 0.1591, Val Accuracy: 0.9246\n",
            "EarlyStopping counter: 1 out of 5\n",
            "Epoch 16: Train Loss: 0.1652, Train Accuracy: 0.9383, Val Loss: 0.1647, Val Accuracy: 0.9246\n",
            "EarlyStopping counter: 2 out of 5\n",
            "Epoch 17: Train Loss: 0.1627, Train Accuracy: 0.9389, Val Loss: 0.1671, Val Accuracy: 0.9236\n",
            "EarlyStopping counter: 3 out of 5\n",
            "Epoch 18: Train Loss: 0.1484, Train Accuracy: 0.9438, Val Loss: 0.1718, Val Accuracy: 0.9266\n",
            "EarlyStopping counter: 4 out of 5\n",
            "Epoch 19: Train Loss: 0.1427, Train Accuracy: 0.9455, Val Loss: 0.1840, Val Accuracy: 0.9201\n",
            "EarlyStopping counter: 5 out of 5\n",
            "Early stopping triggered\n"
          ]
        },
        {
          "output_type": "stream",
          "name": "stderr",
          "text": [
            "<ipython-input-20-46543c8b9d31>:99: FutureWarning: You are using `torch.load` with `weights_only=False` (the current default value), which uses the default pickle module implicitly. It is possible to construct malicious pickle data which will execute arbitrary code during unpickling (See https://github.com/pytorch/pytorch/blob/main/SECURITY.md#untrusted-models for more details). In a future release, the default value for `weights_only` will be flipped to `True`. This limits the functions that could be executed during unpickling. Arbitrary objects will no longer be allowed to be loaded via this mode unless they are explicitly allowlisted by the user via `torch.serialization.add_safe_globals`. We recommend you start setting `weights_only=True` for any use case where you don't have full control of the loaded file. Please open an issue on GitHub for any issues related to this experimental feature.\n",
            "  model.load_state_dict(torch.load('best_model.pth'))\n"
          ]
        },
        {
          "output_type": "execute_result",
          "data": {
            "text/plain": [
              "<All keys matched successfully>"
            ]
          },
          "metadata": {},
          "execution_count": 20
        }
      ]
    },
    {
      "cell_type": "markdown",
      "metadata": {
        "id": "cxVDBr0FBVCf"
      },
      "source": [
        "---\n",
        "\n",
        "## Task 9: Evaluating the Model\n",
        "\n",
        "In this task, you will evaluate the performance of your model on the test set and visualize the training history. You will also analyze the model’s predictions on both individual and complete test samples.\n",
        "\n",
        "### Steps:\n",
        "1. Visualize the loss and accuracy over the training epochs.\n",
        "2. Prepare and preprocess the test data using functions from Task 2.\n",
        "3. Evaluate the model on the test set and examine individual predictions.\n",
        "4. Analyze the overall predictions and display a confusion matrix.\n",
        "\n",
        "---"
      ]
    },
    {
      "cell_type": "code",
      "execution_count": 27,
      "metadata": {
        "id": "ENCfvXeLxIhX",
        "colab": {
          "base_uri": "https://localhost:8080/",
          "height": 547
        },
        "outputId": "2094d4bb-fde8-40b1-8e77-a6a57f66a5b7"
      },
      "outputs": [
        {
          "output_type": "display_data",
          "data": {
            "text/plain": [
              "<Figure size 1600x600 with 2 Axes>"
            ],
            "image/png": "[encoded data removed]"
          },
          "metadata": {}
        }
      ],
      "source": [
        "###############################################################################################################\n",
        "# TODO: Visualize the training history by plotting the loss and accuracy over the epochs to assess model      #\n",
        "#       performance. Use an appropriate visualization method to ensure clarity and effectiveness.             #\n",
        "#       you can use function implemented in Task 2 for your visualizations                                    #\n",
        "###############################################################################################################\n",
        "\n",
        "plot_history(history)"
      ]
    },
    {
      "cell_type": "code",
      "execution_count": 28,
      "metadata": {
        "id": "kWuzoz8uxIha"
      },
      "outputs": [],
      "source": [
        "###############################################################################################################\n",
        "# TODO: Prepare the test set by extracting the tweets and labels, then convert the tweets into sequences using #\n",
        "#       the tokenizer. Ensure the format matches that of the training and validation sets.                     #\n",
        "###############################################################################################################\n",
        "\n",
        "# Extract tweets and labels from datasets\n",
        "test_tweets, test_labels = extract_tweets_labels(test)\n",
        "\n",
        "# Tokenize and pad sequences\n",
        "max_length = 64\n",
        "test_sequences = get_sequences(tokenizer, test_tweets, max_length)\n",
        "\n",
        "# Convert sequences and labels to tensors\n",
        "test_sequences_tensor = torch.tensor(test_sequences, dtype=torch.long)\n",
        "test_labels_tensor = torch.tensor(test_labels, dtype=torch.long)\n",
        "\n",
        "# Create TensorDataset\n",
        "test_data = TensorDataset(test_sequences_tensor, test_labels_tensor)\n",
        "\n",
        "# Create DataLoader\n",
        "batch_size = 32\n",
        "test_loader = DataLoader(test_data, batch_size=batch_size, shuffle=False)\n",
        "\n"
      ]
    },
    {
      "cell_type": "code",
      "execution_count": 29,
      "metadata": {
        "id": "7vRVJ_2SxIhc",
        "colab": {
          "base_uri": "https://localhost:8080/"
        },
        "outputId": "96ed0722-2c02-47f5-a56e-d1b4346f3fcc"
      },
      "outputs": [
        {
          "output_type": "stream",
          "name": "stdout",
          "text": [
            "Test Loss: 0.1530, Test Accuracy: 0.9220\n"
          ]
        }
      ],
      "source": [
        "###############################################################################################################\n",
        "# TODO: Evaluate the model's performance on the test set. Print the accuracy and loss, and review individual   #\n",
        "#       predictions to understand how the model is performing on unseen data.                                 #\n",
        "###############################################################################################################\n",
        "\n",
        "model.eval()\n",
        "criterion = nn.CrossEntropyLoss()\n",
        "true_labels = []\n",
        "predictions = []\n",
        "\n",
        "with torch.no_grad():\n",
        "    test_loss = 0\n",
        "    correct = 0\n",
        "    total = 0\n",
        "    for texts, labels in test_loader:\n",
        "        texts, labels = texts.to(device), labels.to(device)\n",
        "        outputs = model(texts)\n",
        "        loss = criterion(outputs, labels)\n",
        "        test_loss += loss.item()\n",
        "\n",
        "        _, predicted = torch.max(outputs.data, 1)\n",
        "        total += labels.size(0)\n",
        "        correct += (predicted == labels).sum().item()\n",
        "\n",
        "        # Extend the lists for true labels and predictions\n",
        "        true_labels.extend(labels.cpu().numpy())\n",
        "        predictions.extend(predicted.cpu().numpy())\n",
        "\n",
        "# Calculate and print the average loss and accuracy\n",
        "avg_test_loss = test_loss / len(test_loader)\n",
        "test_accuracy = correct / total\n",
        "print(f'Test Loss: {avg_test_loss:.4f}, Test Accuracy: {test_accuracy:.4f}')\n",
        "\n"
      ]
    },
    {
      "cell_type": "code",
      "execution_count": 30,
      "metadata": {
        "id": "rh638vHG5ej6",
        "colab": {
          "base_uri": "https://localhost:8080/",
          "height": 661
        },
        "outputId": "0d2fa003-582f-4a6e-b395-f3d51b459cf4"
      },
      "outputs": [
        {
          "output_type": "display_data",
          "data": {
            "text/plain": [
              "<Figure size 800x800 with 2 Axes>"
            ],
            "image/png": "[encoded data removed]"
          },
          "metadata": {}
        }
      ],
      "source": [
        "###############################################################################################################\n",
        "# TODO: Generate predictions for all test samples and analyze the model's overall performance. Display the     #\n",
        "#       confusion matrix to visualize the differences between true and predicted labels, helping to interpret  #\n",
        "#       the model's classification results.                                                                   #\n",
        "###############################################################################################################\n",
        "class_names = ['Sadness', 'Joy', 'Love', 'Anger', 'Fear', 'Surprise']\n",
        "visualize_confusion_matrix(true_labels, predictions, class_names)"
      ]
    },
    {
      "cell_type": "markdown",
      "metadata": {
        "id": "xZzzDvyQBVCh"
      },
      "source": [
        "# Final Analysis\n",
        "\n",
        "After visualizing the confusion matrix based on your model’s predictions, analyze the results and provide insights into the model’s classification performance.\n",
        "\n",
        "### **Question:**\n",
        "<span style=\"font-size: 1.2em;\">Which class seems to get confused with the class *love* the most?</span>\n",
        "\n",
        "**Remember the class labels:**\n",
        "- **0:** *Sadness*\n",
        "- **1:** *Joy*\n",
        "- **2:** *Love*\n",
        "- **3:** *Anger*\n",
        "- **4:** *Fear*\n",
        "- **5:** *Surprise*\n",
        "\n",
        "Reflect on the confusion matrix to answer this question and provide your reasoning for why this confusion might occur based on the emotional nature of the classes.\n",
        "\n",
        "---"
      ]
    },
    {
      "cell_type": "markdown",
      "source": [
        "Based on the confusion matrix, the class that seems to get confused with *Love* the most is *Joy*. In the confusion matrix, the cell at the intersection of the *Love* row and *Joy* column is notably lighter in color compared to other cells in the *Love* row, indicating a higher rate of misclassification of *Love* as *Joy*.\n",
        "\n",
        "### Reasoning for Confusion Between Love and Joy:\n",
        "The likely reason for this confusion stems from the emotional similarity between *Love* and *Joy*. Both emotions are positive and often elicit similar types of expressions and language. Here are some factors that might contribute to this confusion:\n",
        "\n",
        "1. **Overlap in Expression**: Expressions of *Love* and *Joy* can be very similar, often involving positive language, emotive adjectives, and expressions of affection or happiness. This overlap can make it difficult for the model to distinguish between them purely based on text.\n",
        "\n",
        "2. **Semantic Similarity**: The words used to describe experiences or feelings related to *Love* and *Joy* can be semantically similar. For instance, sentences like \"I'm overjoyed at your success\" and \"I love your success\" share a positive sentiment and could use similar vocabulary.\n",
        "\n",
        "Improving the model's ability to distinguish between these two could involve better feature engineering to capture emotional nuances, using more advanced natural language processing techniques, or providing the model with a more balanced and representative training dataset."
      ],
      "metadata": {
        "id": "CF0jxjj5NqC_"
      }
    },
    {
      "cell_type": "markdown",
      "metadata": {
        "id": "AtGX_lhtBVCi"
      },
      "source": [
        "# **Best regards.**"
      ]
    }
  ],
  "metadata": {
    "colab": {
      "provenance": [],
      "gpuType": "T4"
    },
    "kernelspec": {
      "display_name": "Python 3",
      "name": "python3"
    },
    "language_info": {
      "codemirror_mode": {
        "name": "ipython",
        "version": 3
      },
      "file_extension": ".py",
      "mimetype": "text/x-python",
      "name": "python",
      "nbconvert_exporter": "python",
      "pygments_lexer": "ipython3",
      "version": "3.10.5"
    },
    "accelerator": "GPU"
  },
  "nbformat": 4,
  "nbformat_minor": 0
}