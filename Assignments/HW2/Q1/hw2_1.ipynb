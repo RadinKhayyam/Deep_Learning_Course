{
  "nbformat": 4,
  "nbformat_minor": 0,
  "metadata": {
    "colab": {
      "provenance": [],
      "gpuType": "T4"
    },
    "kernelspec": {
      "name": "python3",
      "display_name": "Python 3"
    },
    "language_info": {
      "name": "python"
    },
    "accelerator": "GPU"
  },
  "cells": [
    {
      "cell_type": "code",
      "source": [
        "# Feel free to import any other libraries and modules.\n",
        "import numpy as np\n",
        "import matplotlib.pyplot as plt\n",
        "import torch\n",
        "from torchvision import datasets, transforms\n",
        "import torch.nn.functional as F\n",
        "from torch.utils.data import TensorDataset, DataLoader\n",
        "from torch import nn"
      ],
      "metadata": {
        "id": "i7I7O1kv0S21"
      },
      "execution_count": 3,
      "outputs": []
    },
    {
      "cell_type": "markdown",
      "source": [
        "# Part One: Optimization Algorithms\n",
        "## 1. Gradient Descent\n",
        "The Gradient Descent (GD) algorithm finds the minimum of a given\n",
        "function by taking small steps along the function's gradient:\n",
        "\n",
        ">$\\Theta \\leftarrow \\Theta_0$\n",
        "\n",
        ">**while** stop condition not met **do**\n",
        "\n",
        ">$~~~~$$\\Theta \\leftarrow \\Theta - \\alpha \\nabla_\\Theta f(\\Theta)$\n",
        "\n",
        ">**end while**\n",
        "\n",
        "where $f$ is the function to minimize, $\\nabla_\\Theta f(\\Theta)$\n",
        "denotes $f$'s gradient at $\\Theta$ and $\\alpha$ is the learning rate.\n",
        "\n",
        "**Task1:** Implement the GD algorithm as a function:\n",
        "\n",
        "  \\begin{equation}\n",
        "      \\Theta_{opt} = \\text{GD}(f, \\Theta_0, \\alpha, \\rho)\n",
        "  \\end{equation}\n",
        "where $f$ is a function returning the cost and its gradient with respect to parameter vector $\\Theta$, $\\Theta_0$ is the initial value, and $\\alpha$\n",
        "is the learning rate. You can assume that $\\alpha$. remains constant during the optimization. $\\rho$ is stop condition. \\\\\n",
        "Then, use the GD algorithm to find the optimum of the [Rosenbrock function](https://en.wikipedia.org/wiki/Rosenbrock_function) (Consider $a=1, b=100$).\n",
        " \\\\\n",
        "Also, plot the values found by GD at subsequent iterations.\n",
        "\n",
        "## 2. Newton's Method\n",
        "Newton's method is an iterative optimization algorithm used to find the minimum of a function.\n",
        "The basic update step in Newton's method is given by:\n",
        "\n",
        "\\begin{equation}\n",
        "\\Theta = \\Theta - H^{-1} \\cdot \\nabla f(\\Theta)\n",
        "\\end{equation}\n",
        "\n",
        "\n",
        "Where  $ H $ is the Hessian matrix of the function at $ \\Theta $, and $ H^{-1} $ is the inverse of the Hessian matrix, used to adjust the step size and direction more accurately than just using the gradient alone (as done in gradient descent).\n",
        "\n",
        "#### Line Search\n",
        "Sometimes, Newton's method may take too large of a step, which can lead to divergence. To prevent this, a simple **line search** is used. This reduces the step size $ \\alpha $ if the function value doesn't improve after the step.\n",
        "\n",
        "Steps:\n",
        "1. Compute the gradient and Hessian matrix at the current point.\n",
        "2. Calculate the step direction by multiplying the inverse of the Hessian with the gradient.\n",
        "3. Update the point by subtracting the step from the current point.\n",
        "4. If the function value doesn't improve, reduce the step size $ \\alpha $.\n",
        "5. Repeat until the gradient becomes sufficiently small (close to zero), indicating convergence.\n",
        "\n",
        "\n",
        "\n",
        "**Task2:** Implement Newton's method and compare it with the gradient descent. You will also need to implement a line search alogithm, e.g. (https://en.wikipedia.org/wiki/Backtracking_line_search) and make sure that the Newton's direction is indeed one along which the function is minimized.\n"
      ],
      "metadata": {
        "id": "CeXRppkryQBV"
      }
    },
    {
      "cell_type": "code",
      "source": [
        "def rosenbrock(x):\n",
        "    \"\"\"Returns the value and gradient of Rosenbrock's function at x: 2d vector\"\"\"\n",
        "    a, b = 1, 100\n",
        "    val = (a - x[0])**2 + b * (x[1] - x[0]**2)**2\n",
        "    dv_dx0 = -2 * (a - x[0]) - 4 * b * x[0] * (x[1] - x[0]**2)\n",
        "    dv_dx1 = 2 * b * (x[1] - x[0]**2)\n",
        "    grad = np.array([dv_dx0, dv_dx1])\n",
        "    return val, grad\n",
        "\n",
        "def rosenbrock_hessian(x):\n",
        "    \"\"\"Returns the value, gradient and hessian of Rosenbrock's function at x: 2d vector\"\"\"\n",
        "    val, grad = rosenbrock(x)\n",
        "    a, b = 1, 100\n",
        "    # Hessian matrix components\n",
        "    d2v_dx0x0 = 2 - 4 * b * (x[1] - x[0]**2) + 8 * b * x[0]**2\n",
        "    d2v_dx0x1 = -4 * b * x[0]\n",
        "    d2v_dx1x0 = -4 * b * x[0]\n",
        "    d2v_dx1x1 = 2 * b\n",
        "\n",
        "    # Hessian matrix\n",
        "    hessian = np.array([[d2v_dx0x0, d2v_dx0x1],\n",
        "                [d2v_dx1x0, d2v_dx1x1]])\n",
        "\n",
        "    return val, grad, hessian\n",
        "\n",
        "\n",
        "def GD(f, theta0, alpha, stop_tolerance=1e-10, max_steps=1000000):\n",
        "    \"\"\"Runs gradient descent algorithm on f.\n",
        "\n",
        "    Args:\n",
        "        f: function that when evaluated on a Theta of same dtype and shape as Theta0\n",
        "            returns a tuple (value, dv_dtheta) with dValuedTheta of the same shape\n",
        "            as Theta\n",
        "        theta0: starting point\n",
        "        alpha: step length\n",
        "        stop_tolerance: stop iterations when improvement is below this threshold\n",
        "        max_steps: maximum number of steps\n",
        "    Returns:\n",
        "        tuple:\n",
        "        - theta: optimum theta found by the algorithm\n",
        "        - history: list of length num_steps containing tuples (theta, (val, dv_dtheta: np.array))\n",
        "\n",
        "    \"\"\"\n",
        "    history = []\n",
        "\n",
        "    theta = theta0\n",
        "\n",
        "    step = 0\n",
        "    while step < max_steps:\n",
        "        history.append([theta, f(theta)])\n",
        "        val, grad = f(theta)\n",
        "        theta -= alpha * grad\n",
        "        step += 1\n",
        "        if np.linalg.norm(grad) < stop_tolerance:\n",
        "            break\n",
        "    return theta, history"
      ],
      "metadata": {
        "id": "DIsMJPFs-kLd"
      },
      "execution_count": null,
      "outputs": []
    },
    {
      "cell_type": "code",
      "source": [
        "# Find the optimum of rosenbrock function\n",
        "\n",
        "X0 = [0.,2.]\n",
        "Xopt, Xhist = GD(rosenbrock, X0, alpha=1e-3, stop_tolerance=1e-10, max_steps=100000)\n",
        "\n",
        "print (\"Found optimum at %s in %d steps (true minimum is at [1,1])\" % (Xopt, len(Xhist)))\n",
        "\n",
        "# Plot how the value changes over iterations\n",
        "values = [f[1][0] for f in Xhist]\n",
        "plt.plot(range(len(values)), values)\n",
        "plt.xlabel('Iterations')\n",
        "plt.ylabel('Function Value')\n",
        "plt.title('Value of Rosenbrock Function over Iterations')\n",
        "plt.show()\n"
      ],
      "metadata": {
        "id": "yyb5unZNaSFq",
        "colab": {
          "base_uri": "https://localhost:8080/",
          "height": 489
        },
        "outputId": "9b82c4a0-6cdd-4c8e-d449-33a047d0f7fa"
      },
      "execution_count": null,
      "outputs": [
        {
          "output_type": "stream",
          "name": "stdout",
          "text": [
            "Found optimum at [1. 1.] in 54320 steps (true minimum is at [1,1])\n"
          ]
        },
        {
          "output_type": "display_data",
          "data": {
            "text/plain": [
              "<Figure size 640x480 with 1 Axes>"
            ],
            "image/png": "[encoded data removed]"
          },
          "metadata": {}
        }
      ]
    },
    {
      "cell_type": "code",
      "source": [
        "# Newton's Method\n",
        "def Newton(f, theta0, alpha=1, stop_tolerance=1e-10, max_steps=1000000):\n",
        "    \"\"\"Performs Newton's optimization method with a simple line search.\n",
        "\n",
        "    Args:\n",
        "        f: function that when evaluated on a Theta of same dtype and shape as Theta0\n",
        "            returns a tuple (value, gradient, hessian), where gradient and Hessian\n",
        "            have the same shape as Theta.\n",
        "        theta0: starting point.\n",
        "        alpha: step length for backtracking line search (default is 1).\n",
        "        stop_tolerance: stop iterations when the norm of the gradient is below this threshold.\n",
        "        max_steps: maximum number of iterations.\n",
        "    Returns:\n",
        "        tuple:\n",
        "        - theta: optimal Theta after convergence or maximum steps.\n",
        "        - history: list of tuples (theta, value, gradient) containing the optimization path.\n",
        "    \"\"\"\n",
        "    theta = theta0\n",
        "    history = []\n",
        "    step = 0\n",
        "\n",
        "    while step < max_steps:\n",
        "        val, grad, hessian = f(theta)\n",
        "        history.append((theta.copy(), val, grad.copy()))\n",
        "\n",
        "        if np.linalg.norm(grad) < stop_tolerance:\n",
        "            break\n",
        "\n",
        "        try:\n",
        "            hessian_inv = np.linalg.inv(hessian)\n",
        "        except np.linalg.LinAlgError:\n",
        "            print(\"Hessian is singular; stopping optimization.\")\n",
        "            break\n",
        "\n",
        "        step_dir = -hessian_inv @ grad\n",
        "\n",
        "        step_size = alpha\n",
        "        while True:\n",
        "            new_theta = theta + step_size * step_dir\n",
        "            new_val, _, _ = f(new_theta)\n",
        "            if new_val < val:\n",
        "                break\n",
        "            step_size *= 0.5\n",
        "\n",
        "        theta += step_size * step_dir\n",
        "        step += 1\n",
        "\n",
        "\n",
        "    return theta, history\n",
        "\n",
        "# Test Newton's method on the Rosenbrock function\n",
        "X0 = [0., 2.]  # Initial guess\n",
        "Xopt, Xhist = Newton(rosenbrock_hessian, X0)\n",
        "\n",
        "print(\"Found optimum at %s (true minimum is at [1,1])\" % Xopt)"
      ],
      "metadata": {
        "id": "JQ1Bf6sNMT_B",
        "colab": {
          "base_uri": "https://localhost:8080/"
        },
        "outputId": "3c527b73-7195-4fbb-d5a6-5c580e958504"
      },
      "execution_count": null,
      "outputs": [
        {
          "output_type": "stream",
          "name": "stdout",
          "text": [
            "Found optimum at [1. 1.] (true minimum is at [1,1])\n"
          ]
        }
      ]
    },
    {
      "cell_type": "markdown",
      "source": [
        "# Part two: MLP for MNIST Classification\n",
        "In this part, we are going to use `PyTorch`. If you want to become more familiar with it, check this resource: https://www.learnpytorch.io/\n",
        "\n",
        "#### In this homework, you need to\n",
        "- implement SGD optimizer (`./optimizer.py`)\n",
        "- implement forward and backward for FCLayer (`layers.py`)\n",
        "- implement forward and backward for SigmoidLayer (`layers.py`)\n",
        "- implement forward and backward for ReLULayer (`layers.py`)\n",
        "- implement forward and backward for DropoutLayer (`layers.py`)\n",
        "- implement train and test process (`solver.py`)"
      ],
      "metadata": {
        "id": "wNXtvq8u-JSo"
      }
    },
    {
      "cell_type": "code",
      "source": [
        "from layers import FCLayer, SigmoidLayer, ReLULayer\n",
        "from solver import train, test\n",
        "from optimizer import SGD"
      ],
      "metadata": {
        "id": "zWtm2k5Ir-XQ"
      },
      "execution_count": 1,
      "outputs": []
    },
    {
      "cell_type": "code",
      "source": [
        "seed = 42\n",
        "torch.manual_seed(seed)\n",
        "np.random.seed(seed)\n",
        "device = \"cuda\" if torch.cuda.is_available() else \"cpu\"\n",
        "device"
      ],
      "metadata": {
        "id": "NRwL2rM0O92Z",
        "colab": {
          "base_uri": "https://localhost:8080/",
          "height": 37
        },
        "outputId": "5d50a4fc-d94d-4cf0-fb3c-7aa071454684"
      },
      "execution_count": 4,
      "outputs": [
        {
          "output_type": "execute_result",
          "data": {
            "text/plain": [
              "'cuda'"
            ],
            "application/vnd.google.colaboratory.intrinsic+json": {
              "type": "string"
            }
          },
          "metadata": {},
          "execution_count": 4
        }
      ]
    },
    {
      "cell_type": "code",
      "source": [
        "# Load MNIST dataset\n",
        "\n",
        "# Converts PIL image to tensor and scales to [0, 1] and flatten it\n",
        "transform = transforms.Compose([\n",
        "    transforms.ToTensor(),\n",
        "    transforms.Lambda(lambda x: x.view(-1)),\n",
        "])\n",
        "\n",
        "# Load MNIST dataset with the defined transform\n",
        "train_dataset = datasets.MNIST(root='./data', train=True, download=True, transform=transform)\n",
        "test_dataset = datasets.MNIST(root='./data', train=False, download=True, transform=transform)\n",
        "\n",
        "# One-hot encoding for labels\n",
        "def decode_label(label, num_classes=10):\n",
        "    return torch.nn.functional.one_hot(torch.tensor(label), num_classes=num_classes).float()\n",
        "\n",
        "# Preprocess labels and combine with transformed images\n",
        "y_train = [decode_label(label) for _, label in train_dataset]\n",
        "y_test = [decode_label(label) for _, label in test_dataset]\n",
        "\n",
        "# Convert the data into tensor datasets for training and testing\n",
        "train_dataset = TensorDataset(torch.stack([img for img, _ in train_dataset]), torch.stack(y_train))\n",
        "test_dataset = TensorDataset(torch.stack([img for img, _ in test_dataset]), torch.stack(y_test))\n",
        "\n",
        "# Create data loaders\n",
        "train_dataloader = DataLoader(train_dataset, batch_size=32, shuffle=True)\n",
        "test_dataloader = DataLoader(test_dataset, batch_size=32, shuffle=False)"
      ],
      "metadata": {
        "id": "bCXcnjSYaR-R",
        "colab": {
          "base_uri": "https://localhost:8080/"
        },
        "outputId": "bd5850d8-504d-431e-b9bf-8683068d95d2"
      },
      "execution_count": 5,
      "outputs": [
        {
          "output_type": "stream",
          "name": "stdout",
          "text": [
            "Downloading http://yann.lecun.com/exdb/mnist/train-images-idx3-ubyte.gz\n",
            "Failed to download (trying next):\n",
            "HTTP Error 403: Forbidden\n",
            "\n",
            "Downloading https://ossci-datasets.s3.amazonaws.com/mnist/train-images-idx3-ubyte.gz\n",
            "Downloading https://ossci-datasets.s3.amazonaws.com/mnist/train-images-idx3-ubyte.gz to ./data/MNIST/raw/train-images-idx3-ubyte.gz\n"
          ]
        },
        {
          "output_type": "stream",
          "name": "stderr",
          "text": [
            "100%|██████████| 9.91M/9.91M [00:00<00:00, 12.8MB/s]\n"
          ]
        },
        {
          "output_type": "stream",
          "name": "stdout",
          "text": [
            "Extracting ./data/MNIST/raw/train-images-idx3-ubyte.gz to ./data/MNIST/raw\n",
            "\n",
            "Downloading http://yann.lecun.com/exdb/mnist/train-labels-idx1-ubyte.gz\n",
            "Failed to download (trying next):\n",
            "HTTP Error 403: Forbidden\n",
            "\n",
            "Downloading https://ossci-datasets.s3.amazonaws.com/mnist/train-labels-idx1-ubyte.gz\n",
            "Downloading https://ossci-datasets.s3.amazonaws.com/mnist/train-labels-idx1-ubyte.gz to ./data/MNIST/raw/train-labels-idx1-ubyte.gz\n"
          ]
        },
        {
          "output_type": "stream",
          "name": "stderr",
          "text": [
            "100%|██████████| 28.9k/28.9k [00:00<00:00, 349kB/s]\n"
          ]
        },
        {
          "output_type": "stream",
          "name": "stdout",
          "text": [
            "Extracting ./data/MNIST/raw/train-labels-idx1-ubyte.gz to ./data/MNIST/raw\n",
            "\n",
            "Downloading http://yann.lecun.com/exdb/mnist/t10k-images-idx3-ubyte.gz\n",
            "Failed to download (trying next):\n",
            "HTTP Error 403: Forbidden\n",
            "\n",
            "Downloading https://ossci-datasets.s3.amazonaws.com/mnist/t10k-images-idx3-ubyte.gz\n",
            "Downloading https://ossci-datasets.s3.amazonaws.com/mnist/t10k-images-idx3-ubyte.gz to ./data/MNIST/raw/t10k-images-idx3-ubyte.gz\n"
          ]
        },
        {
          "output_type": "stream",
          "name": "stderr",
          "text": [
            "100%|██████████| 1.65M/1.65M [00:00<00:00, 3.19MB/s]\n"
          ]
        },
        {
          "output_type": "stream",
          "name": "stdout",
          "text": [
            "Extracting ./data/MNIST/raw/t10k-images-idx3-ubyte.gz to ./data/MNIST/raw\n",
            "\n",
            "Downloading http://yann.lecun.com/exdb/mnist/t10k-labels-idx1-ubyte.gz\n",
            "Failed to download (trying next):\n",
            "HTTP Error 403: Forbidden\n",
            "\n",
            "Downloading https://ossci-datasets.s3.amazonaws.com/mnist/t10k-labels-idx1-ubyte.gz\n",
            "Downloading https://ossci-datasets.s3.amazonaws.com/mnist/t10k-labels-idx1-ubyte.gz to ./data/MNIST/raw/t10k-labels-idx1-ubyte.gz\n"
          ]
        },
        {
          "output_type": "stream",
          "name": "stderr",
          "text": [
            "100%|██████████| 4.54k/4.54k [00:00<00:00, 12.1MB/s]\n"
          ]
        },
        {
          "output_type": "stream",
          "name": "stdout",
          "text": [
            "Extracting ./data/MNIST/raw/t10k-labels-idx1-ubyte.gz to ./data/MNIST/raw\n",
            "\n"
          ]
        }
      ]
    },
    {
      "cell_type": "code",
      "source": [
        "num_epoch = 20\n",
        "\n",
        "criterion = nn.MSELoss()\n",
        "\n",
        "# Build MLP with FCLayer and SigmoidLayer you've implemented in layers.py\n",
        "sigmoidMLP = nn.Sequential(\n",
        "    FCLayer(784, 128),\n",
        "    SigmoidLayer(),\n",
        "    FCLayer(128, 10)\n",
        ")\n",
        "\n",
        "# Initialize optimizer you've implemented in optimizer.py\n",
        "sgd = SGD(params=sigmoidMLP.parameters(), learning_rate=0.01)\n",
        "\n",
        "# Train the model using train function you've implemented in solver.py\n",
        "sigmoidMLP = train(sigmoidMLP, criterion, sgd, train_dataloader, num_epoch, device=device)"
      ],
      "metadata": {
        "id": "NkRty2cM-kIt",
        "colab": {
          "base_uri": "https://localhost:8080/"
        },
        "outputId": "aea9b876-132a-4229-a2e1-713554765ee4"
      },
      "execution_count": 6,
      "outputs": [
        {
          "output_type": "stream",
          "name": "stdout",
          "text": [
            "\n",
            "Epoch [0] Average training loss: 0.0771, Average training accuracy: 0.4956\n",
            "\n",
            "Epoch [1] Average training loss: 0.0556, Average training accuracy: 0.7378\n",
            "\n",
            "Epoch [2] Average training loss: 0.0506, Average training accuracy: 0.7835\n",
            "\n",
            "Epoch [3] Average training loss: 0.0482, Average training accuracy: 0.8046\n",
            "\n",
            "Epoch [4] Average training loss: 0.0466, Average training accuracy: 0.8173\n",
            "\n",
            "Epoch [5] Average training loss: 0.0456, Average training accuracy: 0.8254\n",
            "\n",
            "Epoch [6] Average training loss: 0.0448, Average training accuracy: 0.8307\n",
            "\n",
            "Epoch [7] Average training loss: 0.0442, Average training accuracy: 0.8344\n",
            "\n",
            "Epoch [8] Average training loss: 0.0437, Average training accuracy: 0.8384\n",
            "\n",
            "Epoch [9] Average training loss: 0.0432, Average training accuracy: 0.8408\n",
            "\n",
            "Epoch [10] Average training loss: 0.0429, Average training accuracy: 0.8430\n",
            "\n",
            "Epoch [11] Average training loss: 0.0426, Average training accuracy: 0.8455\n",
            "\n",
            "Epoch [12] Average training loss: 0.0423, Average training accuracy: 0.8465\n",
            "\n",
            "Epoch [13] Average training loss: 0.0420, Average training accuracy: 0.8474\n",
            "\n",
            "Epoch [14] Average training loss: 0.0418, Average training accuracy: 0.8489\n",
            "\n",
            "Epoch [15] Average training loss: 0.0415, Average training accuracy: 0.8504\n",
            "\n",
            "Epoch [16] Average training loss: 0.0413, Average training accuracy: 0.8517\n",
            "\n",
            "Epoch [17] Average training loss: 0.0411, Average training accuracy: 0.8514\n",
            "\n",
            "Epoch [18] Average training loss: 0.0409, Average training accuracy: 0.8529\n",
            "\n",
            "Epoch [19] Average training loss: 0.0407, Average training accuracy: 0.8533\n"
          ]
        }
      ]
    },
    {
      "cell_type": "code",
      "source": [
        "# Test your model using test function you've implemented in solver.py\n",
        "test(sigmoidMLP, test_dataloader, device)"
      ],
      "metadata": {
        "id": "F0otZUFrr7WW",
        "colab": {
          "base_uri": "https://localhost:8080/"
        },
        "outputId": "5e6fc76f-9cdd-42d8-b44e-74d0da3e6141"
      },
      "execution_count": 7,
      "outputs": [
        {
          "output_type": "stream",
          "name": "stdout",
          "text": [
            "The test accuracy is 0.8627.\n",
            "\n"
          ]
        }
      ]
    },
    {
      "cell_type": "code",
      "source": [
        "# Build MLP with FCLayer and ReLULayer\n",
        "reluMLP = nn.Sequential(\n",
        "    FCLayer(784, 128),\n",
        "    ReLULayer(),\n",
        "    FCLayer(128, 10)\n",
        ")\n",
        "\n",
        "# Initialize optimizer\n",
        "sgd = SGD(reluMLP.parameters(), learning_rate=0.01)\n",
        "\n",
        "# Train the model\n",
        "reluMLP = train(reluMLP, criterion, sgd, train_dataloader, num_epoch, device=device)"
      ],
      "metadata": {
        "id": "n-2V-B_er7T2",
        "colab": {
          "base_uri": "https://localhost:8080/"
        },
        "outputId": "a70e3891-fe65-4938-d79f-7cca39a39c39"
      },
      "execution_count": 8,
      "outputs": [
        {
          "output_type": "stream",
          "name": "stdout",
          "text": [
            "\n",
            "Epoch [0] Average training loss: 0.0712, Average training accuracy: 0.6373\n",
            "\n",
            "Epoch [1] Average training loss: 0.0467, Average training accuracy: 0.8231\n",
            "\n",
            "Epoch [2] Average training loss: 0.0399, Average training accuracy: 0.8589\n",
            "\n",
            "Epoch [3] Average training loss: 0.0357, Average training accuracy: 0.8765\n",
            "\n",
            "Epoch [4] Average training loss: 0.0327, Average training accuracy: 0.8875\n",
            "\n",
            "Epoch [5] Average training loss: 0.0305, Average training accuracy: 0.8953\n",
            "\n",
            "Epoch [6] Average training loss: 0.0288, Average training accuracy: 0.9011\n",
            "\n",
            "Epoch [7] Average training loss: 0.0274, Average training accuracy: 0.9060\n",
            "\n",
            "Epoch [8] Average training loss: 0.0262, Average training accuracy: 0.9103\n",
            "\n",
            "Epoch [9] Average training loss: 0.0253, Average training accuracy: 0.9131\n",
            "\n",
            "Epoch [10] Average training loss: 0.0244, Average training accuracy: 0.9162\n",
            "\n",
            "Epoch [11] Average training loss: 0.0237, Average training accuracy: 0.9185\n",
            "\n",
            "Epoch [12] Average training loss: 0.0231, Average training accuracy: 0.9205\n",
            "\n",
            "Epoch [13] Average training loss: 0.0225, Average training accuracy: 0.9227\n",
            "\n",
            "Epoch [14] Average training loss: 0.0220, Average training accuracy: 0.9248\n",
            "\n",
            "Epoch [15] Average training loss: 0.0215, Average training accuracy: 0.9264\n",
            "\n",
            "Epoch [16] Average training loss: 0.0211, Average training accuracy: 0.9279\n",
            "\n",
            "Epoch [17] Average training loss: 0.0207, Average training accuracy: 0.9289\n",
            "\n",
            "Epoch [18] Average training loss: 0.0204, Average training accuracy: 0.9297\n",
            "\n",
            "Epoch [19] Average training loss: 0.0200, Average training accuracy: 0.9309\n"
          ]
        }
      ]
    },
    {
      "cell_type": "code",
      "source": [
        "\n",
        "# Test the model\n",
        "test(reluMLP, test_dataloader, device)"
      ],
      "metadata": {
        "id": "sLjxTbq8r7RZ",
        "colab": {
          "base_uri": "https://localhost:8080/"
        },
        "outputId": "4f3182a7-2d6d-44ac-f94f-1a2037564f18"
      },
      "execution_count": 12,
      "outputs": [
        {
          "output_type": "stream",
          "name": "stdout",
          "text": [
            "The test accuracy is 0.9313.\n",
            "\n"
          ]
        }
      ]
    },
    {
      "cell_type": "markdown",
      "source": [
        "### Overfit the model\n",
        "Try to overfit the reluMLP model. You can make the model as complex as you like, use subset of the data for training or any other approach you want.\n",
        "Then add **DropoutLayer** to your model in order to reduce overfitting problem."
      ],
      "metadata": {
        "id": "krsqZLJ-qQKH"
      }
    },
    {
      "cell_type": "code",
      "source": [
        "#TODO: overfit the reluMLP model\n",
        "\n",
        "# Use a small subset of the training data\n",
        "small_train_inputs, small_train_labels = train_dataset[:512]\n",
        "small_train_dataset = TensorDataset(small_train_inputs, small_train_labels)\n",
        "small_train_dataloader = DataLoader(small_train_dataset, batch_size=32, shuffle=True)\n",
        "\n",
        "complex_reluMLP = nn.Sequential(\n",
        "    FCLayer(784, 256),\n",
        "    ReLULayer(),\n",
        "    FCLayer(256, 128),\n",
        "    ReLULayer(),\n",
        "    FCLayer(128, 10)\n",
        ")\n",
        "\n",
        "sgd = SGD(params=complex_reluMLP.parameters(), learning_rate=0.01)\n",
        "\n",
        "num_epoch = 50\n",
        "complex_reluMLP = train(complex_reluMLP, criterion, sgd, small_train_dataloader, num_epoch, device=device)\n",
        "\n",
        "test(complex_reluMLP, test_dataloader, device)\n"
      ],
      "metadata": {
        "id": "XbVFtro9qP1i",
        "colab": {
          "base_uri": "https://localhost:8080/"
        },
        "outputId": "e50304cc-d251-4433-ccbc-b3302fd7937c"
      },
      "execution_count": 13,
      "outputs": [
        {
          "output_type": "stream",
          "name": "stdout",
          "text": [
            "\n",
            "Epoch [0] Average training loss: 0.1332, Average training accuracy: 0.0625\n",
            "\n",
            "Epoch [1] Average training loss: 0.1151, Average training accuracy: 0.1230\n",
            "\n",
            "Epoch [2] Average training loss: 0.1061, Average training accuracy: 0.1699\n",
            "\n",
            "Epoch [3] Average training loss: 0.1003, Average training accuracy: 0.2246\n",
            "\n",
            "Epoch [4] Average training loss: 0.0959, Average training accuracy: 0.2578\n",
            "\n",
            "Epoch [5] Average training loss: 0.0923, Average training accuracy: 0.2988\n",
            "\n",
            "Epoch [6] Average training loss: 0.0891, Average training accuracy: 0.3438\n",
            "\n",
            "Epoch [7] Average training loss: 0.0863, Average training accuracy: 0.3809\n",
            "\n",
            "Epoch [8] Average training loss: 0.0838, Average training accuracy: 0.4082\n",
            "\n",
            "Epoch [9] Average training loss: 0.0815, Average training accuracy: 0.4531\n",
            "\n",
            "Epoch [10] Average training loss: 0.0794, Average training accuracy: 0.4844\n",
            "\n",
            "Epoch [11] Average training loss: 0.0774, Average training accuracy: 0.5176\n",
            "\n",
            "Epoch [12] Average training loss: 0.0756, Average training accuracy: 0.5410\n",
            "\n",
            "Epoch [13] Average training loss: 0.0740, Average training accuracy: 0.5547\n",
            "\n",
            "Epoch [14] Average training loss: 0.0724, Average training accuracy: 0.5742\n",
            "\n",
            "Epoch [15] Average training loss: 0.0709, Average training accuracy: 0.5859\n",
            "\n",
            "Epoch [16] Average training loss: 0.0695, Average training accuracy: 0.5918\n",
            "\n",
            "Epoch [17] Average training loss: 0.0682, Average training accuracy: 0.6055\n",
            "\n",
            "Epoch [18] Average training loss: 0.0670, Average training accuracy: 0.6152\n",
            "\n",
            "Epoch [19] Average training loss: 0.0659, Average training accuracy: 0.6309\n",
            "\n",
            "Epoch [20] Average training loss: 0.0648, Average training accuracy: 0.6367\n",
            "\n",
            "Epoch [21] Average training loss: 0.0637, Average training accuracy: 0.6621\n",
            "\n",
            "Epoch [22] Average training loss: 0.0627, Average training accuracy: 0.6758\n",
            "\n",
            "Epoch [23] Average training loss: 0.0618, Average training accuracy: 0.6875\n",
            "\n",
            "Epoch [24] Average training loss: 0.0609, Average training accuracy: 0.6914\n",
            "\n",
            "Epoch [25] Average training loss: 0.0600, Average training accuracy: 0.6992\n",
            "\n",
            "Epoch [26] Average training loss: 0.0592, Average training accuracy: 0.7090\n",
            "\n",
            "Epoch [27] Average training loss: 0.0584, Average training accuracy: 0.7129\n",
            "\n",
            "Epoch [28] Average training loss: 0.0576, Average training accuracy: 0.7168\n",
            "\n",
            "Epoch [29] Average training loss: 0.0569, Average training accuracy: 0.7266\n",
            "\n",
            "Epoch [30] Average training loss: 0.0562, Average training accuracy: 0.7363\n",
            "\n",
            "Epoch [31] Average training loss: 0.0555, Average training accuracy: 0.7441\n",
            "\n",
            "Epoch [32] Average training loss: 0.0548, Average training accuracy: 0.7500\n",
            "\n",
            "Epoch [33] Average training loss: 0.0542, Average training accuracy: 0.7578\n",
            "\n",
            "Epoch [34] Average training loss: 0.0536, Average training accuracy: 0.7676\n",
            "\n",
            "Epoch [35] Average training loss: 0.0530, Average training accuracy: 0.7695\n",
            "\n",
            "Epoch [36] Average training loss: 0.0524, Average training accuracy: 0.7793\n",
            "\n",
            "Epoch [37] Average training loss: 0.0519, Average training accuracy: 0.7812\n",
            "\n",
            "Epoch [38] Average training loss: 0.0513, Average training accuracy: 0.7832\n",
            "\n",
            "Epoch [39] Average training loss: 0.0508, Average training accuracy: 0.7852\n",
            "\n",
            "Epoch [40] Average training loss: 0.0503, Average training accuracy: 0.7891\n",
            "\n",
            "Epoch [41] Average training loss: 0.0498, Average training accuracy: 0.7949\n",
            "\n",
            "Epoch [42] Average training loss: 0.0493, Average training accuracy: 0.7969\n",
            "\n",
            "Epoch [43] Average training loss: 0.0488, Average training accuracy: 0.7988\n",
            "\n",
            "Epoch [44] Average training loss: 0.0484, Average training accuracy: 0.8086\n",
            "\n",
            "Epoch [45] Average training loss: 0.0479, Average training accuracy: 0.8066\n",
            "\n",
            "Epoch [46] Average training loss: 0.0475, Average training accuracy: 0.8105\n",
            "\n",
            "Epoch [47] Average training loss: 0.0471, Average training accuracy: 0.8086\n",
            "\n",
            "Epoch [48] Average training loss: 0.0467, Average training accuracy: 0.8125\n",
            "\n",
            "Epoch [49] Average training loss: 0.0463, Average training accuracy: 0.8125\n",
            "The test accuracy is 0.6430.\n",
            "\n"
          ]
        }
      ]
    },
    {
      "cell_type": "code",
      "source": [
        "from layers import DropoutLayer\n",
        "\n",
        "#TODO: add DropoutLayer to your model\n",
        "\n",
        "dropout_reluMLP = nn.Sequential(\n",
        "    FCLayer(784, 256),\n",
        "    ReLULayer(),\n",
        "    DropoutLayer(0.5),\n",
        "    FCLayer(256, 128),\n",
        "    ReLULayer(),\n",
        "    DropoutLayer(0.5),\n",
        "    FCLayer(128, 10)\n",
        ")\n",
        "\n",
        "sgd = SGD(params=dropout_reluMLP.parameters(), learning_rate=0.01)\n",
        "\n",
        "num_epoch = 50\n",
        "dropout_reluMLP = train(dropout_reluMLP, criterion, sgd, train_dataloader, num_epoch, device=device)\n",
        "\n",
        "test(dropout_reluMLP, test_dataloader, device)\n"
      ],
      "metadata": {
        "id": "BeCfvh6Jr7Om",
        "colab": {
          "base_uri": "https://localhost:8080/"
        },
        "outputId": "6fee6c66-f4af-4611-f11d-8ca903fc4e9f"
      },
      "execution_count": 14,
      "outputs": [
        {
          "output_type": "stream",
          "name": "stdout",
          "text": [
            "\n",
            "Epoch [0] Average training loss: 0.1089, Average training accuracy: 0.2314\n",
            "\n",
            "Epoch [1] Average training loss: 0.0802, Average training accuracy: 0.4052\n",
            "\n",
            "Epoch [2] Average training loss: 0.0733, Average training accuracy: 0.4984\n",
            "\n",
            "Epoch [3] Average training loss: 0.0684, Average training accuracy: 0.5685\n",
            "\n",
            "Epoch [4] Average training loss: 0.0644, Average training accuracy: 0.6159\n",
            "\n",
            "Epoch [5] Average training loss: 0.0615, Average training accuracy: 0.6499\n",
            "\n",
            "Epoch [6] Average training loss: 0.0587, Average training accuracy: 0.6829\n",
            "\n",
            "Epoch [7] Average training loss: 0.0564, Average training accuracy: 0.7070\n",
            "\n",
            "Epoch [8] Average training loss: 0.0545, Average training accuracy: 0.7256\n",
            "\n",
            "Epoch [9] Average training loss: 0.0526, Average training accuracy: 0.7455\n",
            "\n",
            "Epoch [10] Average training loss: 0.0512, Average training accuracy: 0.7530\n",
            "\n",
            "Epoch [11] Average training loss: 0.0498, Average training accuracy: 0.7685\n",
            "\n",
            "Epoch [12] Average training loss: 0.0485, Average training accuracy: 0.7803\n",
            "\n",
            "Epoch [13] Average training loss: 0.0475, Average training accuracy: 0.7854\n",
            "\n",
            "Epoch [14] Average training loss: 0.0462, Average training accuracy: 0.7953\n",
            "\n",
            "Epoch [15] Average training loss: 0.0455, Average training accuracy: 0.8017\n",
            "\n",
            "Epoch [16] Average training loss: 0.0446, Average training accuracy: 0.8094\n",
            "\n",
            "Epoch [17] Average training loss: 0.0439, Average training accuracy: 0.8118\n",
            "\n",
            "Epoch [18] Average training loss: 0.0430, Average training accuracy: 0.8196\n",
            "\n",
            "Epoch [19] Average training loss: 0.0423, Average training accuracy: 0.8246\n",
            "\n",
            "Epoch [20] Average training loss: 0.0417, Average training accuracy: 0.8282\n",
            "\n",
            "Epoch [21] Average training loss: 0.0411, Average training accuracy: 0.8337\n",
            "\n",
            "Epoch [22] Average training loss: 0.0405, Average training accuracy: 0.8349\n",
            "\n",
            "Epoch [23] Average training loss: 0.0399, Average training accuracy: 0.8406\n",
            "\n",
            "Epoch [24] Average training loss: 0.0396, Average training accuracy: 0.8431\n",
            "\n",
            "Epoch [25] Average training loss: 0.0390, Average training accuracy: 0.8453\n",
            "\n",
            "Epoch [26] Average training loss: 0.0387, Average training accuracy: 0.8465\n",
            "\n",
            "Epoch [27] Average training loss: 0.0381, Average training accuracy: 0.8515\n",
            "\n",
            "Epoch [28] Average training loss: 0.0377, Average training accuracy: 0.8538\n",
            "\n",
            "Epoch [29] Average training loss: 0.0374, Average training accuracy: 0.8560\n",
            "\n",
            "Epoch [30] Average training loss: 0.0370, Average training accuracy: 0.8591\n",
            "\n",
            "Epoch [31] Average training loss: 0.0368, Average training accuracy: 0.8588\n",
            "\n",
            "Epoch [32] Average training loss: 0.0364, Average training accuracy: 0.8622\n",
            "\n",
            "Epoch [33] Average training loss: 0.0361, Average training accuracy: 0.8637\n",
            "\n",
            "Epoch [34] Average training loss: 0.0357, Average training accuracy: 0.8662\n",
            "\n",
            "Epoch [35] Average training loss: 0.0355, Average training accuracy: 0.8659\n",
            "\n",
            "Epoch [36] Average training loss: 0.0350, Average training accuracy: 0.8696\n",
            "\n",
            "Epoch [37] Average training loss: 0.0348, Average training accuracy: 0.8706\n",
            "\n",
            "Epoch [38] Average training loss: 0.0346, Average training accuracy: 0.8736\n",
            "\n",
            "Epoch [39] Average training loss: 0.0341, Average training accuracy: 0.8750\n",
            "\n",
            "Epoch [40] Average training loss: 0.0340, Average training accuracy: 0.8769\n",
            "\n",
            "Epoch [41] Average training loss: 0.0339, Average training accuracy: 0.8749\n",
            "\n",
            "Epoch [42] Average training loss: 0.0335, Average training accuracy: 0.8787\n",
            "\n",
            "Epoch [43] Average training loss: 0.0333, Average training accuracy: 0.8771\n",
            "\n",
            "Epoch [44] Average training loss: 0.0330, Average training accuracy: 0.8794\n",
            "\n",
            "Epoch [45] Average training loss: 0.0326, Average training accuracy: 0.8822\n",
            "\n",
            "Epoch [46] Average training loss: 0.0327, Average training accuracy: 0.8805\n",
            "\n",
            "Epoch [47] Average training loss: 0.0324, Average training accuracy: 0.8829\n",
            "\n",
            "Epoch [48] Average training loss: 0.0322, Average training accuracy: 0.8847\n",
            "\n",
            "Epoch [49] Average training loss: 0.0321, Average training accuracy: 0.8839\n",
            "The test accuracy is 0.9362.\n",
            "\n"
          ]
        }
      ]
    }
  ]
}